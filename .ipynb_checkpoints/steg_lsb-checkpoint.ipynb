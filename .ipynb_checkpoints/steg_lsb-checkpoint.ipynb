{
 "cells": [
  {
   "cell_type": "code",
   "execution_count": 1,
   "metadata": {},
   "outputs": [],
   "source": [
    "from PIL import Image\n"
   ]
  },
  {
   "cell_type": "code",
   "execution_count": 2,
   "metadata": {},
   "outputs": [],
   "source": [
    "# img1 = \"optimization-ii-project-3/coast/arnat59.jpg\"\n",
    "# img1 = Image.open(img1)\n",
    "# print(img1.width)\n",
    "#img1.show()\n",
    "#print(img1.load())\n"
   ]
  },
  {
   "cell_type": "code",
   "execution_count": 3,
   "metadata": {},
   "outputs": [],
   "source": [
    "class Steganography(object):\n",
    "    def __to_bin(int_img):\n",
    "        #convert an integer triple to a binary triple\n",
    "        r,g,b = int_img\n",
    "        return ('{0:08b}'.format(r),'{0:08b}'.format(g),'{0:08b}'.format(b))\n",
    "    \n",
    "    def __to_int(bin_img):\n",
    "        #convert a binary triple to an integer triple\n",
    "        r,g,b = bin_img\n",
    "        return (int(r, 2),int(g, 2),int(b, 2))\n",
    "    \n",
    "    def __lsb_convert(bin_img1,bin_img2):\n",
    "        #replace the least significant bits of the original image with the secret image's most significant bits\n",
    "        r1,g1,b1 = bin_img1\n",
    "        r2,g2,b2 = bin_img2\n",
    "        return(r1[0:4]+r2[0:4],g1[0:4]+g2[0:4],b1[0:4]+b2[0:4])\n",
    "    \n",
    "    def encode(img1,img2):\n",
    "        #encode original and secret images so that the output image still looks like the original image,\n",
    "        #but contains the information about the secret image.\n",
    "        \n",
    "        #raise error if two input images are of different sizes\n",
    "        if img2.size[0] != img1.size[0] or img2.size[1] != img1.size[1]:\n",
    "            raise ValueError('Images should not have different sizes')\n",
    "        \n",
    "        pixel_access1 = img1.load()\n",
    "        pixel_access2 = img2.load() \n",
    "        \n",
    "        img3 = Image.new(img1.mode, img1.size)\n",
    "        pixel_access3 = img3.load()\n",
    "        \n",
    "        for i in range(img1.width):\n",
    "            for j in range(img1.height):\n",
    "                bin_img1 = Steganography.__to_bin(pixel_access1[i,j])\n",
    "                bin_img2 = Steganography.__to_bin(pixel_access2[i,j])\n",
    "                bin_img3 = Steganography.__lsb_convert(bin_img1,bin_img2)\n",
    "                pixel_access3[i,j] = Steganography.__to_int(bin_img3)\n",
    "        return img3\n",
    "    \n",
    "    def decode(img3):\n",
    "        #decode the secret image from the encoded image\n",
    "        \n",
    "        pa3 = img3.load()\n",
    "        img4 = Image.new(img3.mode, img3.size)\n",
    "        pa4 = img4.load()\n",
    "        \n",
    "        for i in range(img3.width):\n",
    "            for j in range(img3.height):\n",
    "                r,g,b = Steganography.__to_bin(pa3[i,j])\n",
    "                newbin = (r[4:] + '0000', g[4:] + '0000', b[4:] + '0000')\n",
    "                pa4[i,j] = Steganography.__to_int(newbin)\n",
    "        return img4\n",
    "    "
   ]
  },
  {
   "cell_type": "code",
   "execution_count": 5,
   "metadata": {},
   "outputs": [],
   "source": [
    "## test on given dataset\n",
    "img1_loc = \"optimization-ii-project-3/arnat59.jpg\"\n",
    "img2_loc = \"optimization-ii-project-3/bea20.jpg\"\n",
    "encode_loc = \"output/output.png\"\n",
    "decode_loc = \"output/output2.png\"\n",
    "\n",
    "img3 = Steganography.encode(Image.open(img1_loc), Image.open(img2_loc))\n",
    "img3.save(encode_loc)\n",
    "\n",
    "img4 = Steganography.decode(Image.open(encode_loc))\n",
    "img4.save(decode_loc)"
   ]
  },
  {
   "cell_type": "code",
   "execution_count": 7,
   "metadata": {},
   "outputs": [],
   "source": [
    "## test on Kodak images\n",
    "img1_loc = \"testing-data/kodim01.png\"\n",
    "img2_loc = \"testing-data/kodim02.png\"\n",
    "encode_loc = \"output/output3.png\"\n",
    "decode_loc = \"output/output4.png\"\n",
    "\n",
    "img3 = Steganography.encode(Image.open(img1_loc), Image.open(img2_loc))\n",
    "img3.save(encode_loc)\n",
    "\n",
    "img4 = Steganography.decode(Image.open(encode_loc))\n",
    "img4.save(decode_loc)"
   ]
  },
  {
   "cell_type": "code",
   "execution_count": null,
   "metadata": {},
   "outputs": [],
   "source": []
  },
  {
   "cell_type": "code",
   "execution_count": null,
   "metadata": {},
   "outputs": [],
   "source": []
  }
 ],
 "metadata": {
  "kernelspec": {
   "display_name": "Python 3",
   "language": "python",
   "name": "python3"
  },
  "language_info": {
   "codemirror_mode": {
    "name": "ipython",
    "version": 3
   },
   "file_extension": ".py",
   "mimetype": "text/x-python",
   "name": "python",
   "nbconvert_exporter": "python",
   "pygments_lexer": "ipython3",
   "version": "3.6.8"
  }
 },
 "nbformat": 4,
 "nbformat_minor": 2
}
